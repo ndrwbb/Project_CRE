{
 "cells": [
  {
   "cell_type": "code",
   "execution_count": 1,
   "id": "6f071bb9-e244-4141-9260-f06ec945672a",
   "metadata": {},
   "outputs": [],
   "source": [
    "\n",
    "import pandas as pd\n",
    "import numpy as np\n",
    "import matplotlib.pyplot as plt\n",
    "\n",
    "import statsmodels.api as sm\n",
    "import statsmodels.formula.api as smf\n",
    "import xgboost as xgb\n",
    "\n",
    "from sklearn.model_selection import train_test_split\n",
    "from sklearn.metrics import mean_absolute_error, mean_squared_error"
   ]
  },
  {
   "cell_type": "code",
   "execution_count": 2,
   "id": "907b6b41-4b38-42d9-8283-fd9f644b2ead",
   "metadata": {},
   "outputs": [],
   "source": [
    "usecols = [\n",
    "    'city',\n",
    "    'coords_lat',\n",
    "    'coords_lng',\n",
    "    'price_per_m2_sale',\n",
    "    'property_type_sale',\n",
    "    'time',\n",
    "    'total_area_sale',\n",
    "    'floor_sale',\n",
    "    'km_do_metro'\n",
    "]\n",
    "\n",
    "df = pd.read_csv(\n",
    "    'filtered_data_cre.csv',\n",
    "    usecols=usecols,\n",
    "    parse_dates=['time'],\n",
    "    engine='python'\n",
    ")\n",
    "\n",
    "df['year'] = df['time'].dt.year\n",
    "df['month'] = df['time'].dt.month\n",
    "df['quarter'] = df['time'].dt.to_period('Q')"
   ]
  },
  {
   "cell_type": "code",
   "execution_count": 3,
   "id": "745d4019-cade-4582-ac6d-5fc4dacf4897",
   "metadata": {},
   "outputs": [
    {
     "name": "stdout",
     "output_type": "stream",
     "text": [
      "=== H1: Spatial Proximity (Москва) ===\n",
      "                            OLS Regression Results                            \n",
      "==============================================================================\n",
      "Dep. Variable:      price_per_m2_sale   R-squared:                       0.000\n",
      "Model:                            OLS   Adj. R-squared:                  0.000\n",
      "Method:                 Least Squares   F-statistic:                     1.587\n",
      "Date:                Tue, 03 Jun 2025   Prob (F-statistic):              0.208\n",
      "Time:                        23:13:00   Log-Likelihood:                -69488.\n",
      "No. Observations:                3876   AIC:                         1.390e+05\n",
      "Df Residuals:                    3874   BIC:                         1.390e+05\n",
      "Df Model:                           1                                         \n",
      "Covariance Type:            nonrobust                                         \n",
      "=========================================================================================\n",
      "                            coef    std err          t      P>|t|      [0.025      0.975]\n",
      "-----------------------------------------------------------------------------------------\n",
      "Intercept              1.265e+06   4.07e+05      3.108      0.002    4.67e+05    2.06e+06\n",
      "distance_to_center_km -4.301e+04   3.41e+04     -1.260      0.208    -1.1e+05    2.39e+04\n",
      "==============================================================================\n",
      "Omnibus:                    11742.601   Durbin-Watson:                   2.002\n",
      "Prob(Omnibus):                  0.000   Jarque-Bera (JB):        743532937.229\n",
      "Skew:                          44.257   Prob(JB):                         0.00\n",
      "Kurtosis:                    2146.848   Cond. No.                         20.5\n",
      "==============================================================================\n",
      "\n",
      "Notes:\n",
      "[1] Standard Errors assume that the covariance matrix of the errors is correctly specified.\n"
     ]
    }
   ],
   "source": [
    "df_moscow = df[\n",
    "    (df['city'] == 'Москва') &\n",
    "    df['coords_lat'].notna() &\n",
    "    df['coords_lng'].notna() &\n",
    "    df['price_per_m2_sale'].notna()\n",
    "].copy()\n",
    "\n",
    "def haversine(lat1, lon1, lat2, lon2):\n",
    "    R = 6371\n",
    "    phi1, phi2 = np.radians(lat1), np.radians(lat2)\n",
    "    dphi = np.radians(lat2 - lat1)\n",
    "    dlambda = np.radians(lon2 - lon1)\n",
    "    a = np.sin(dphi / 2)**2 + np.cos(phi1) * np.cos(phi2) * np.sin(dlambda / 2)**2\n",
    "    c = 2 * np.arctan2(np.sqrt(a), np.sqrt(1 - a))\n",
    "    return R * c\n",
    "\n",
    "moscow_center = (55.7558, 37.6173)\n",
    "\n",
    "df_moscow['distance_to_center_km'] = df_moscow.apply(\n",
    "    lambda row: haversine(\n",
    "        row['coords_lat'], row['coords_lng'],\n",
    "        moscow_center[0], moscow_center[1]\n",
    "    ),\n",
    "    axis=1\n",
    ")\n",
    "\n",
    "h1_model = smf.ols(\n",
    "    formula='price_per_m2_sale ~ distance_to_center_km',\n",
    "    data=df_moscow\n",
    ").fit()\n",
    "\n",
    "print(\"=== H1: Spatial Proximity (Москва) ===\")\n",
    "print(h1_model.summary())"
   ]
  },
  {
   "cell_type": "code",
   "execution_count": 4,
   "id": "cc18cd68-594a-47ae-933f-4230374057cd",
   "metadata": {},
   "outputs": [
    {
     "name": "stdout",
     "output_type": "stream",
     "text": [
      "\n",
      "=== H2: Regional Differences (ANOVA по Топ-10 городам) ===\n",
      "                sum_sq       df         F        PR(>F)\n",
      "C(city)   7.171061e+15      8.0  7.931091  9.955760e-11\n",
      "Residual  5.018939e+18  44407.0       NaN           NaN\n"
     ]
    }
   ],
   "source": [
    "df_h2 = df[['city', 'price_per_m2_sale']].dropna()\n",
    "\n",
    "top10_cities = df_h2['city'].value_counts().nlargest(10).index.tolist()\n",
    "df_h2 = df_h2[df_h2['city'].isin(top10_cities)].copy()\n",
    "\n",
    "h2_model = smf.ols(\n",
    "    formula='price_per_m2_sale ~ C(city)',\n",
    "    data=df_h2\n",
    ").fit()\n",
    "anova_h2 = sm.stats.anova_lm(h2_model, typ=2)\n",
    "\n",
    "print(\"\\n=== H2: Regional Differences (ANOVA по Топ-10 городам) ===\")\n",
    "print(anova_h2)"
   ]
  },
  {
   "cell_type": "code",
   "execution_count": 5,
   "id": "187e6ad6-6723-4492-87ec-2dfd2eb35fb8",
   "metadata": {},
   "outputs": [
    {
     "name": "stdout",
     "output_type": "stream",
     "text": [
      "\n",
      "=== H3: Property Type Effect (ANOVA) ===\n",
      "                             sum_sq       df         F    PR(>F)\n",
      "C(property_type_sale)  6.035391e+13      3.0  2.987523  0.029818\n",
      "Residual               1.265049e+17  18786.0       NaN       NaN\n"
     ]
    }
   ],
   "source": [
    "df_h3 = df[['property_type_sale', 'price_per_m2_sale']].dropna()\n",
    "\n",
    "valid_types = [\n",
    "    'Офисное помещение',       \n",
    "    'Торговое помещение',    \n",
    "    'Складское помещение',    \n",
    "    'Производственное помещение' \n",
    "]\n",
    "df_h3 = df_h3[df_h3['property_type_sale'].isin(valid_types)].copy()\n",
    "\n",
    "h3_model = smf.ols(\n",
    "    formula='price_per_m2_sale ~ C(property_type_sale)',\n",
    "    data=df_h3\n",
    ").fit()\n",
    "anova_h3 = sm.stats.anova_lm(h3_model, typ=2)\n",
    "\n",
    "print(\"\\n=== H3: Property Type Effect (ANOVA) ===\")\n",
    "print(anova_h3)"
   ]
  },
  {
   "cell_type": "code",
   "execution_count": 9,
   "id": "70eae378-55fc-4ade-b730-84d07a13c7ec",
   "metadata": {},
   "outputs": [
    {
     "data": {
      "image/png": "[encoded data removed]",
      "text/plain": [
       "<Figure size 1000x400 with 1 Axes>"
      ]
     },
     "metadata": {},
     "output_type": "display_data"
    },
    {
     "name": "stdout",
     "output_type": "stream",
     "text": [
      "\n",
      "=== H4: Temporal Trend (OLS) ===\n",
      "                            OLS Regression Results                            \n",
      "==============================================================================\n",
      "Dep. Variable:      price_per_m2_sale   R-squared:                       0.763\n",
      "Model:                            OLS   Adj. R-squared:                  0.743\n",
      "Method:                 Least Squares   F-statistic:                     38.68\n",
      "Date:                Tue, 03 Jun 2025   Prob (F-statistic):           4.45e-05\n",
      "Time:                        23:20:10   Log-Likelihood:                -185.59\n",
      "No. Observations:                  14   AIC:                             375.2\n",
      "Df Residuals:                      12   BIC:                             376.5\n",
      "Df Model:                           1                                         \n",
      "Covariance Type:            nonrobust                                         \n",
      "===============================================================================\n",
      "                  coef    std err          t      P>|t|      [0.025      0.975]\n",
      "-------------------------------------------------------------------------------\n",
      "const        4.625e+04   7.58e+04      0.610      0.553   -1.19e+05    2.11e+05\n",
      "quarter_num  6.162e+04   9907.158      6.219      0.000       4e+04    8.32e+04\n",
      "==============================================================================\n",
      "Omnibus:                        1.104   Durbin-Watson:                   1.239\n",
      "Prob(Omnibus):                  0.576   Jarque-Bera (JB):                0.579\n",
      "Skew:                          -0.485   Prob(JB):                        0.749\n",
      "Kurtosis:                       2.774   Cond. No.                         14.7\n",
      "==============================================================================\n",
      "\n",
      "Notes:\n",
      "[1] Standard Errors assume that the covariance matrix of the errors is correctly specified.\n"
     ]
    },
    {
     "name": "stderr",
     "output_type": "stream",
     "text": [
      "/Library/Frameworks/Python.framework/Versions/3.12/lib/python3.12/site-packages/scipy/stats/_stats_py.py:1806: UserWarning: kurtosistest only valid for n>=20 ... continuing anyway, n=14\n",
      "  warnings.warn(\"kurtosistest only valid for n>=20 ... continuing \"\n"
     ]
    }
   ],
   "source": [
    "df_ts = df[['time', 'price_per_m2_sale']].dropna().set_index('time').sort_index()\n",
    "quarterly_avg = df_ts['price_per_m2_sale'].resample('Q').mean().reset_index()\n",
    "\n",
    "quarterly_avg['quarter_num'] = np.arange(len(quarterly_avg))\n",
    "\n",
    "plt.figure(figsize=(10, 4))\n",
    "plt.plot(\n",
    "    quarterly_avg['time'],\n",
    "    quarterly_avg['price_per_m2_sale'],\n",
    "    marker='o'\n",
    ")\n",
    "plt.title('H4: Average Price per m² (2022–2025) Quartetly')\n",
    "plt.xlabel('Quartal')\n",
    "plt.ylabel('Average price for m², rub.')\n",
    "plt.grid(True)\n",
    "plt.show()\n",
    "\n",
    "X_q = sm.add_constant(quarterly_avg['quarter_num'])\n",
    "y_q = quarterly_avg['price_per_m2_sale']\n",
    "h4_model = sm.OLS(y_q, X_q).fit()\n",
    "\n",
    "print(\"\\n=== H4: Temporal Trend (OLS) ===\")\n",
    "print(h4_model.summary())\n"
   ]
  },
  {
   "cell_type": "code",
   "execution_count": 8,
   "id": "153fb0dd-b0b6-49cb-83ab-3e778630ef47",
   "metadata": {},
   "outputs": [
    {
     "name": "stdout",
     "output_type": "stream",
     "text": [
      "\n",
      "=== H5: Feature Contribution to Prediction ===\n",
      "Model A (без гео/временных признаков): MAE = 115112.50, RMSE = 643619.41\n",
      "Model B (с гео/временными признаками): MAE = 420664.99, RMSE = 10297522.80\n",
      "\n",
      "Feature Importance (Model B):\n",
      "              feature  importance\n",
      "2         km_do_metro    0.955741\n",
      "5          coords_lng    0.030953\n",
      "1          floor_sale    0.008116\n",
      "0     total_area_sale    0.002961\n",
      "4          coords_lat    0.000964\n",
      "7               month    0.000551\n",
      "3  property_type_code    0.000508\n",
      "6                year    0.000207\n"
     ]
    }
   ],
   "source": [
    "df_h5 = df[\n",
    "    df['price_per_m2_sale'].notna() &\n",
    "    df['total_area_sale'].notna() &\n",
    "    df['floor_sale'].notna() &\n",
    "    df['coords_lat'].notna() &\n",
    "    df['coords_lng'].notna() &\n",
    "    df['property_type_sale'].notna()\n",
    "].copy()\n",
    "\n",
    "df_h5 = df_h5[df_h5['property_type_sale'].isin(valid_types)].copy()\n",
    "\n",
    "df_h5['property_type_code'] = df_h5['property_type_sale'].astype('category').cat.codes\n",
    "\n",
    "features_A = ['total_area_sale', 'floor_sale', 'km_do_metro', 'property_type_code']\n",
    "features_B = features_A + ['coords_lat', 'coords_lng', 'year', 'month']\n",
    "\n",
    "X_A = df_h5[features_A]\n",
    "X_B = df_h5[features_B]\n",
    "y = df_h5['price_per_m2_sale']\n",
    "\n",
    "X_A_train, X_A_test, y_train, y_test = train_test_split(\n",
    "    X_A, y, test_size=0.2, random_state=42\n",
    ")\n",
    "X_B_train, X_B_test, _, _ = train_test_split(\n",
    "    X_B, y, test_size=0.2, random_state=42\n",
    ")\n",
    "\n",
    "model_A = xgb.XGBRegressor(\n",
    "    objective='reg:squarederror',\n",
    "    random_state=42\n",
    ")\n",
    "model_A.fit(X_A_train, y_train)\n",
    "\n",
    "model_B = xgb.XGBRegressor(\n",
    "    objective='reg:squarederror',\n",
    "    random_state=42\n",
    ")\n",
    "model_B.fit(X_B_train, y_train)\n",
    "\n",
    "y_pred_A = model_A.predict(X_A_test)\n",
    "y_pred_B = model_B.predict(X_B_test)\n",
    "\n",
    "mae_A = mean_absolute_error(y_test, y_pred_A)\n",
    "rmse_A = np.sqrt(mean_squared_error(y_test, y_pred_A))\n",
    "\n",
    "mae_B = mean_absolute_error(y_test, y_pred_B)\n",
    "rmse_B = np.sqrt(mean_squared_error(y_test, y_pred_B))\n",
    "\n",
    "print(\"\\n=== H5: Feature Contribution to Prediction ===\")\n",
    "print(f\"Model A (без гео/временных признаков): MAE = {mae_A:.2f}, RMSE = {rmse_A:.2f}\")\n",
    "print(f\"Model B (с гео/временными признаками): MAE = {mae_B:.2f}, RMSE = {rmse_B:.2f}\")\n",
    "\n",
    "feature_importances = model_B.feature_importances_\n",
    "feature_importance_df = pd.DataFrame({\n",
    "    'feature': features_B,\n",
    "    'importance': feature_importances\n",
    "}).sort_values(by='importance', ascending=False)\n",
    "\n",
    "print(\"\\nFeature Importance (Model B):\")\n",
    "print(feature_importance_df)"
   ]
  }
 ],
 "metadata": {
  "kernelspec": {
   "display_name": "Python 3 (ipykernel)",
   "language": "python",
   "name": "python3"
  },
  "language_info": {
   "codemirror_mode": {
    "name": "ipython",
    "version": 3
   },
   "file_extension": ".py",
   "mimetype": "text/x-python",
   "name": "python",
   "nbconvert_exporter": "python",
   "pygments_lexer": "ipython3",
   "version": "3.12.0"
  }
 },
 "nbformat": 4,
 "nbformat_minor": 5
}
